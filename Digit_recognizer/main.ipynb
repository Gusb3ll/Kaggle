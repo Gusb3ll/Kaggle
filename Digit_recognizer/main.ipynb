{
 "cells": [
  {
   "cell_type": "code",
   "execution_count": 1,
   "source": [
    "import numpy as np\r\n",
    "import pandas as pd\r\n",
    "import tensorflow as tf\r\n",
    "import matplotlib.pyplot as plt"
   ],
   "outputs": [],
   "metadata": {}
  },
  {
   "cell_type": "code",
   "execution_count": 2,
   "source": [
    "train = pd.read_csv('data/train.csv')\r\n",
    "test = pd.read_csv('data/test.csv')"
   ],
   "outputs": [],
   "metadata": {}
  },
  {
   "cell_type": "code",
   "execution_count": 3,
   "source": [
    "train.head()"
   ],
   "outputs": [
    {
     "output_type": "execute_result",
     "data": {
      "text/html": [
       "<div>\n",
       "<style scoped>\n",
       "    .dataframe tbody tr th:only-of-type {\n",
       "        vertical-align: middle;\n",
       "    }\n",
       "\n",
       "    .dataframe tbody tr th {\n",
       "        vertical-align: top;\n",
       "    }\n",
       "\n",
       "    .dataframe thead th {\n",
       "        text-align: right;\n",
       "    }\n",
       "</style>\n",
       "<table border=\"1\" class=\"dataframe\">\n",
       "  <thead>\n",
       "    <tr style=\"text-align: right;\">\n",
       "      <th></th>\n",
       "      <th>label</th>\n",
       "      <th>pixel0</th>\n",
       "      <th>pixel1</th>\n",
       "      <th>pixel2</th>\n",
       "      <th>pixel3</th>\n",
       "      <th>pixel4</th>\n",
       "      <th>pixel5</th>\n",
       "      <th>pixel6</th>\n",
       "      <th>pixel7</th>\n",
       "      <th>pixel8</th>\n",
       "      <th>...</th>\n",
       "      <th>pixel774</th>\n",
       "      <th>pixel775</th>\n",
       "      <th>pixel776</th>\n",
       "      <th>pixel777</th>\n",
       "      <th>pixel778</th>\n",
       "      <th>pixel779</th>\n",
       "      <th>pixel780</th>\n",
       "      <th>pixel781</th>\n",
       "      <th>pixel782</th>\n",
       "      <th>pixel783</th>\n",
       "    </tr>\n",
       "  </thead>\n",
       "  <tbody>\n",
       "    <tr>\n",
       "      <th>0</th>\n",
       "      <td>1</td>\n",
       "      <td>0</td>\n",
       "      <td>0</td>\n",
       "      <td>0</td>\n",
       "      <td>0</td>\n",
       "      <td>0</td>\n",
       "      <td>0</td>\n",
       "      <td>0</td>\n",
       "      <td>0</td>\n",
       "      <td>0</td>\n",
       "      <td>...</td>\n",
       "      <td>0</td>\n",
       "      <td>0</td>\n",
       "      <td>0</td>\n",
       "      <td>0</td>\n",
       "      <td>0</td>\n",
       "      <td>0</td>\n",
       "      <td>0</td>\n",
       "      <td>0</td>\n",
       "      <td>0</td>\n",
       "      <td>0</td>\n",
       "    </tr>\n",
       "    <tr>\n",
       "      <th>1</th>\n",
       "      <td>0</td>\n",
       "      <td>0</td>\n",
       "      <td>0</td>\n",
       "      <td>0</td>\n",
       "      <td>0</td>\n",
       "      <td>0</td>\n",
       "      <td>0</td>\n",
       "      <td>0</td>\n",
       "      <td>0</td>\n",
       "      <td>0</td>\n",
       "      <td>...</td>\n",
       "      <td>0</td>\n",
       "      <td>0</td>\n",
       "      <td>0</td>\n",
       "      <td>0</td>\n",
       "      <td>0</td>\n",
       "      <td>0</td>\n",
       "      <td>0</td>\n",
       "      <td>0</td>\n",
       "      <td>0</td>\n",
       "      <td>0</td>\n",
       "    </tr>\n",
       "    <tr>\n",
       "      <th>2</th>\n",
       "      <td>1</td>\n",
       "      <td>0</td>\n",
       "      <td>0</td>\n",
       "      <td>0</td>\n",
       "      <td>0</td>\n",
       "      <td>0</td>\n",
       "      <td>0</td>\n",
       "      <td>0</td>\n",
       "      <td>0</td>\n",
       "      <td>0</td>\n",
       "      <td>...</td>\n",
       "      <td>0</td>\n",
       "      <td>0</td>\n",
       "      <td>0</td>\n",
       "      <td>0</td>\n",
       "      <td>0</td>\n",
       "      <td>0</td>\n",
       "      <td>0</td>\n",
       "      <td>0</td>\n",
       "      <td>0</td>\n",
       "      <td>0</td>\n",
       "    </tr>\n",
       "    <tr>\n",
       "      <th>3</th>\n",
       "      <td>4</td>\n",
       "      <td>0</td>\n",
       "      <td>0</td>\n",
       "      <td>0</td>\n",
       "      <td>0</td>\n",
       "      <td>0</td>\n",
       "      <td>0</td>\n",
       "      <td>0</td>\n",
       "      <td>0</td>\n",
       "      <td>0</td>\n",
       "      <td>...</td>\n",
       "      <td>0</td>\n",
       "      <td>0</td>\n",
       "      <td>0</td>\n",
       "      <td>0</td>\n",
       "      <td>0</td>\n",
       "      <td>0</td>\n",
       "      <td>0</td>\n",
       "      <td>0</td>\n",
       "      <td>0</td>\n",
       "      <td>0</td>\n",
       "    </tr>\n",
       "    <tr>\n",
       "      <th>4</th>\n",
       "      <td>0</td>\n",
       "      <td>0</td>\n",
       "      <td>0</td>\n",
       "      <td>0</td>\n",
       "      <td>0</td>\n",
       "      <td>0</td>\n",
       "      <td>0</td>\n",
       "      <td>0</td>\n",
       "      <td>0</td>\n",
       "      <td>0</td>\n",
       "      <td>...</td>\n",
       "      <td>0</td>\n",
       "      <td>0</td>\n",
       "      <td>0</td>\n",
       "      <td>0</td>\n",
       "      <td>0</td>\n",
       "      <td>0</td>\n",
       "      <td>0</td>\n",
       "      <td>0</td>\n",
       "      <td>0</td>\n",
       "      <td>0</td>\n",
       "    </tr>\n",
       "  </tbody>\n",
       "</table>\n",
       "<p>5 rows × 785 columns</p>\n",
       "</div>"
      ],
      "text/plain": [
       "   label  pixel0  pixel1  pixel2  pixel3  pixel4  pixel5  pixel6  pixel7  \\\n",
       "0      1       0       0       0       0       0       0       0       0   \n",
       "1      0       0       0       0       0       0       0       0       0   \n",
       "2      1       0       0       0       0       0       0       0       0   \n",
       "3      4       0       0       0       0       0       0       0       0   \n",
       "4      0       0       0       0       0       0       0       0       0   \n",
       "\n",
       "   pixel8  ...  pixel774  pixel775  pixel776  pixel777  pixel778  pixel779  \\\n",
       "0       0  ...         0         0         0         0         0         0   \n",
       "1       0  ...         0         0         0         0         0         0   \n",
       "2       0  ...         0         0         0         0         0         0   \n",
       "3       0  ...         0         0         0         0         0         0   \n",
       "4       0  ...         0         0         0         0         0         0   \n",
       "\n",
       "   pixel780  pixel781  pixel782  pixel783  \n",
       "0         0         0         0         0  \n",
       "1         0         0         0         0  \n",
       "2         0         0         0         0  \n",
       "3         0         0         0         0  \n",
       "4         0         0         0         0  \n",
       "\n",
       "[5 rows x 785 columns]"
      ]
     },
     "metadata": {},
     "execution_count": 3
    }
   ],
   "metadata": {}
  },
  {
   "cell_type": "code",
   "execution_count": 4,
   "source": [
    "def show_image(train_image, label, index):\r\n",
    "    image_shaped = train_image.values.reshape(28,28)\r\n",
    "    plt.subplot(1, 6, index+1)\r\n",
    "    plt.imshow(image_shaped, cmap=plt.cm.gray)\r\n",
    "    plt.title(label)\r\n",
    "\r\n",
    "\r\n",
    "plt.figure(figsize=(18, 8))\r\n",
    "sample_image = train.sample(6).reset_index(drop=True)\r\n",
    "for index, row in sample_image.iterrows():\r\n",
    "    label = row['label']\r\n",
    "    image_pixels = row.drop('label')\r\n",
    "    show_image(image_pixels, label, index)\r\n",
    "plt.show()"
   ],
   "outputs": [
    {
     "output_type": "display_data",
     "data": {
      "image/png": "[encoded data removed]",
      "text/plain": [
       "<Figure size 1296x576 with 6 Axes>"
      ]
     },
     "metadata": {
      "needs_background": "light"
     }
    }
   ],
   "metadata": {}
  },
  {
   "cell_type": "code",
   "execution_count": 5,
   "source": [
    "Xtrain = train.drop(columns=['label']).values.reshape(train.shape[0],28,28,1)\r\n",
    "Ytrain = train['label']\r\n",
    "\r\n",
    "Xtest = test.values.reshape(test.shape[0],28,28,1)"
   ],
   "outputs": [],
   "metadata": {}
  },
  {
   "cell_type": "code",
   "execution_count": 6,
   "source": [
    "Xtrain = Xtrain[:, :, :] / 255.\r\n",
    "Xtrain = tf.image.resize(Xtrain, (32, 32))\r\n",
    "Xtest = Xtest[:, :, :] / 255.\r\n",
    "Xtest = tf.image.resize(Xtest, (32, 32))"
   ],
   "outputs": [],
   "metadata": {}
  },
  {
   "cell_type": "code",
   "execution_count": 7,
   "source": [
    "Xtrain.shape"
   ],
   "outputs": [
    {
     "output_type": "execute_result",
     "data": {
      "text/plain": [
       "TensorShape([42000, 32, 32, 1])"
      ]
     },
     "metadata": {},
     "execution_count": 7
    }
   ],
   "metadata": {}
  },
  {
   "cell_type": "code",
   "execution_count": 8,
   "source": [
    "Ytrain.shape"
   ],
   "outputs": [
    {
     "output_type": "execute_result",
     "data": {
      "text/plain": [
       "(42000,)"
      ]
     },
     "metadata": {},
     "execution_count": 8
    }
   ],
   "metadata": {}
  },
  {
   "cell_type": "code",
   "execution_count": 9,
   "source": [
    "model = tf.keras.Sequential()\r\n",
    "\r\n",
    "model.add(tf.keras.layers.Conv2D(6, (5, 5), input_shape=(32, 32, 1), activation='relu'))\r\n",
    "model.add(tf.keras.layers.MaxPool2D())\r\n",
    "model.add(tf.keras.layers.Conv2D(16, (5, 5), activation='relu'))\r\n",
    "model.add(tf.keras.layers.MaxPool2D())\r\n",
    "model.add(tf.keras.layers.Flatten())\r\n",
    "model.add(tf.keras.layers.Dense(120, activation='relu'))\r\n",
    "model.add(tf.keras.layers.Dense(84, activation='relu'))\r\n",
    "model.add(tf.keras.layers.Dense(10, activation='softmax'))\r\n",
    "\r\n",
    "model.compile(loss=tf.keras.losses.SparseCategoricalCrossentropy(), optimizer=tf.keras.optimizers.SGD())"
   ],
   "outputs": [],
   "metadata": {}
  },
  {
   "cell_type": "code",
   "execution_count": 10,
   "source": [
    "tf.keras.utils.plot_model(model, to_file='model_pic/model.png', show_shapes=True)"
   ],
   "outputs": [
    {
     "output_type": "execute_result",
     "data": {
      "image/png": "[encoded data removed]",
      "text/plain": [
       "<IPython.core.display.Image object>"
      ]
     },
     "metadata": {},
     "execution_count": 10
    }
   ],
   "metadata": {}
  },
  {
   "cell_type": "code",
   "execution_count": 11,
   "source": [
    "history = model.fit(Xtrain, Ytrain, epochs=50)"
   ],
   "outputs": [
    {
     "output_type": "stream",
     "name": "stdout",
     "text": [
      "Epoch 1/50\n",
      "1313/1313 [==============================] - 9s 5ms/step - loss: 0.6717\n",
      "Epoch 2/50\n",
      "1313/1313 [==============================] - 6s 4ms/step - loss: 0.1717\n",
      "Epoch 3/50\n",
      "1313/1313 [==============================] - 6s 4ms/step - loss: 0.1222\n",
      "Epoch 4/50\n",
      "1313/1313 [==============================] - 7s 5ms/step - loss: 0.0968\n",
      "Epoch 5/50\n",
      "1313/1313 [==============================] - 6s 4ms/step - loss: 0.0805\n",
      "Epoch 6/50\n",
      "1313/1313 [==============================] - 6s 4ms/step - loss: 0.0693\n",
      "Epoch 7/50\n",
      "1313/1313 [==============================] - 6s 5ms/step - loss: 0.0610\n",
      "Epoch 8/50\n",
      "1313/1313 [==============================] - 7s 6ms/step - loss: 0.0547\n",
      "Epoch 9/50\n",
      "1313/1313 [==============================] - 7s 5ms/step - loss: 0.0500\n",
      "Epoch 10/50\n",
      "1313/1313 [==============================] - 6s 5ms/step - loss: 0.0449\n",
      "Epoch 11/50\n",
      "1313/1313 [==============================] - 7s 5ms/step - loss: 0.0415\n",
      "Epoch 12/50\n",
      "1313/1313 [==============================] - 6s 4ms/step - loss: 0.0384\n",
      "Epoch 13/50\n",
      "1313/1313 [==============================] - 6s 4ms/step - loss: 0.0350\n",
      "Epoch 14/50\n",
      "1313/1313 [==============================] - 5s 4ms/step - loss: 0.0328\n",
      "Epoch 15/50\n",
      "1313/1313 [==============================] - 5s 4ms/step - loss: 0.0306\n",
      "Epoch 16/50\n",
      "1313/1313 [==============================] - 5s 4ms/step - loss: 0.0277\n",
      "Epoch 17/50\n",
      "1313/1313 [==============================] - 5s 4ms/step - loss: 0.0259\n",
      "Epoch 18/50\n",
      "1313/1313 [==============================] - 5s 4ms/step - loss: 0.0249\n",
      "Epoch 19/50\n",
      "1313/1313 [==============================] - 5s 4ms/step - loss: 0.0233\n",
      "Epoch 20/50\n",
      "1313/1313 [==============================] - 5s 4ms/step - loss: 0.0213\n",
      "Epoch 21/50\n",
      "1313/1313 [==============================] - 5s 4ms/step - loss: 0.0215\n",
      "Epoch 22/50\n",
      "1313/1313 [==============================] - 5s 4ms/step - loss: 0.0184\n",
      "Epoch 23/50\n",
      "1313/1313 [==============================] - 5s 4ms/step - loss: 0.0174\n",
      "Epoch 24/50\n",
      "1313/1313 [==============================] - 5s 4ms/step - loss: 0.0167\n",
      "Epoch 25/50\n",
      "1313/1313 [==============================] - 5s 4ms/step - loss: 0.0159\n",
      "Epoch 26/50\n",
      "1313/1313 [==============================] - 5s 4ms/step - loss: 0.0151\n",
      "Epoch 27/50\n",
      "1313/1313 [==============================] - 6s 4ms/step - loss: 0.0145\n",
      "Epoch 28/50\n",
      "1313/1313 [==============================] - 5s 4ms/step - loss: 0.0139\n",
      "Epoch 29/50\n",
      "1313/1313 [==============================] - 5s 4ms/step - loss: 0.0125\n",
      "Epoch 30/50\n",
      "1313/1313 [==============================] - 5s 4ms/step - loss: 0.0113\n",
      "Epoch 31/50\n",
      "1313/1313 [==============================] - 7s 5ms/step - loss: 0.0106\n",
      "Epoch 32/50\n",
      "1313/1313 [==============================] - 7s 5ms/step - loss: 0.0103\n",
      "Epoch 33/50\n",
      "1313/1313 [==============================] - 6s 5ms/step - loss: 0.0094\n",
      "Epoch 34/50\n",
      "1313/1313 [==============================] - 5s 4ms/step - loss: 0.0083\n",
      "Epoch 35/50\n",
      "1313/1313 [==============================] - 5s 4ms/step - loss: 0.0085\n",
      "Epoch 36/50\n",
      "1313/1313 [==============================] - 5s 4ms/step - loss: 0.0083\n",
      "Epoch 37/50\n",
      "1313/1313 [==============================] - 5s 4ms/step - loss: 0.0071\n",
      "Epoch 38/50\n",
      "1313/1313 [==============================] - 5s 4ms/step - loss: 0.0064\n",
      "Epoch 39/50\n",
      "1313/1313 [==============================] - 5s 4ms/step - loss: 0.0078\n",
      "Epoch 40/50\n",
      "1313/1313 [==============================] - 5s 4ms/step - loss: 0.0057\n",
      "Epoch 41/50\n",
      "1313/1313 [==============================] - 5s 4ms/step - loss: 0.0057\n",
      "Epoch 42/50\n",
      "1313/1313 [==============================] - 5s 4ms/step - loss: 0.0050\n",
      "Epoch 43/50\n",
      "1313/1313 [==============================] - 5s 4ms/step - loss: 0.0043\n",
      "Epoch 44/50\n",
      "1313/1313 [==============================] - 5s 4ms/step - loss: 0.0044\n",
      "Epoch 45/50\n",
      "1313/1313 [==============================] - 5s 4ms/step - loss: 0.0039\n",
      "Epoch 46/50\n",
      "1313/1313 [==============================] - 5s 4ms/step - loss: 0.0050\n",
      "Epoch 47/50\n",
      "1313/1313 [==============================] - 5s 4ms/step - loss: 0.0039\n",
      "Epoch 48/50\n",
      "1313/1313 [==============================] - 5s 4ms/step - loss: 0.0035\n",
      "Epoch 49/50\n",
      "1313/1313 [==============================] - 5s 4ms/step - loss: 0.0024\n",
      "Epoch 50/50\n",
      "1313/1313 [==============================] - 5s 4ms/step - loss: 0.0027\n"
     ]
    }
   ],
   "metadata": {}
  },
  {
   "cell_type": "code",
   "execution_count": 12,
   "source": [
    "loss = history.history['loss']\r\n",
    "\r\n",
    "plt.plot(loss)\r\n",
    "plt.xlabel('epochs')\r\n",
    "plt.ylabel('loss')\r\n",
    "\r\n",
    "plt.show()"
   ],
   "outputs": [
    {
     "output_type": "display_data",
     "data": {
      "image/png": "[encoded data removed]",
      "text/plain": [
       "<Figure size 432x288 with 1 Axes>"
      ]
     },
     "metadata": {
      "needs_background": "light"
     }
    }
   ],
   "metadata": {}
  },
  {
   "cell_type": "code",
   "execution_count": 14,
   "source": [
    "predict = model.predict(Xtest)"
   ],
   "outputs": [],
   "metadata": {}
  },
  {
   "cell_type": "code",
   "execution_count": 15,
   "source": [
    "results = np.argmax(predict, axis = 1) "
   ],
   "outputs": [],
   "metadata": {}
  },
  {
   "cell_type": "code",
   "execution_count": 17,
   "source": [
    "output = pd.read_csv(\"data/sample_submission.csv\")\r\n",
    "output['Label'] = results\r\n",
    "output.to_csv('dist/submission.csv', index = False)"
   ],
   "outputs": [],
   "metadata": {}
  }
 ],
 "metadata": {
  "orig_nbformat": 4,
  "language_info": {
   "name": "python",
   "version": "3.9.7",
   "mimetype": "text/x-python",
   "codemirror_mode": {
    "name": "ipython",
    "version": 3
   },
   "pygments_lexer": "ipython3",
   "nbconvert_exporter": "python",
   "file_extension": ".py"
  },
  "kernelspec": {
   "name": "python3",
   "display_name": "Python 3.9.7 64-bit ('env': venv)"
  },
  "interpreter": {
   "hash": "2fd07f4540197822f09abc70d5806247319a681f8bb1057e244daa81f9f400a4"
  }
 },
 "nbformat": 4,
 "nbformat_minor": 2
}